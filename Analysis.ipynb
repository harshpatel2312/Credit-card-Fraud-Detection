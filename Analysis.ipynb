{
 "cells": [
  {
   "cell_type": "code",
   "execution_count": null,
   "id": "34af051d-ab0a-4971-8985-bd153f31495d",
   "metadata": {},
   "outputs": [],
   "source": [
    "import pandas as pd\n",
    "import numpy as np\n",
    "data = pd.read_csv(\"Dataset/Credit Card.csv\")\n",
    "print(data.head)"
   ]
  },
  {
   "cell_type": "code",
   "execution_count": null,
   "id": "be638f7c-42b5-4833-b10e-26ed8cbd2497",
   "metadata": {},
   "outputs": [],
   "source": [
    "print(data.isnull().sum())"
   ]
  },
  {
   "cell_type": "code",
   "execution_count": null,
   "id": "a3ba819e-653c-46dc-81c5-f6aa891e1e20",
   "metadata": {},
   "outputs": [],
   "source": [
    "#Exploring transaction type\n",
    "print(data.type.value_counts())"
   ]
  },
  {
   "cell_type": "code",
   "execution_count": null,
   "id": "9a93922d-899a-43ea-9b24-c2dbbd79c7db",
   "metadata": {},
   "outputs": [],
   "source": [
    "#Checking the default renderers\n",
    "import plotly.io as pio\n",
    "pio.renderers"
   ]
  },
  {
   "cell_type": "code",
   "execution_count": null,
   "id": "e74c222a-80f1-44aa-9c04-e12431daab15",
   "metadata": {},
   "outputs": [],
   "source": [
    "#Changing the default renderer\n",
    "pio.renderers.default = \"browser\""
   ]
  },
  {
   "cell_type": "code",
   "execution_count": null,
   "id": "2d7aab6e-404e-4b30-9d64-dc92735d62cc",
   "metadata": {},
   "outputs": [],
   "source": [
    "type = data[\"type\"].value_counts()\n",
    "transactions = type.index\n",
    "quantity = type.values\n",
    "\n",
    "import plotly.express as px\n",
    "figure = px.pie(data, values = quantity, names = transactions, hole = 0.5, title = \"Distribution of Transaction Type\")\n",
    "\n",
    "figure.show()"
   ]
  },
  {
   "cell_type": "code",
   "execution_count": null,
   "id": "ea9ea344-8aec-43b0-8f8b-173de2386c0c",
   "metadata": {},
   "outputs": [],
   "source": [
    "#Removing the string data\n",
    "updated_data = pd.read_csv(\"Dataset/Credit Card.csv\", usecols = lambda column: column != \"type\" and column != \"nameOrig\" and column != \"nameDest\")\n",
    "print(updated_data.head)"
   ]
  },
  {
   "cell_type": "code",
   "execution_count": null,
   "id": "b8bf6f8b-7f28-43ac-9b51-632285354b9f",
   "metadata": {},
   "outputs": [],
   "source": [
    "#Correlation Analysis\n",
    "correlation = updated_data.corr()\n",
    "print(correlation[\"isFraud\"].sort_values(ascending = False))"
   ]
  },
  {
   "cell_type": "code",
   "execution_count": null,
   "id": "0118a838-ba51-41a7-b6fa-343a7eccc6c9",
   "metadata": {},
   "outputs": [],
   "source": [
    "#Checking the no. of fraud transactions\n",
    "print(updated_data[\"isFraud\"].value_counts())"
   ]
  },
  {
   "cell_type": "code",
   "execution_count": null,
   "id": "5e7eca32-ad70-42e9-8e6d-8884ed03b858",
   "metadata": {},
   "outputs": [],
   "source": [
    "data = pd.read_csv(\"Dataset/Credit Card.csv\")\n",
    "\n",
    "print(\"Type: \\n\", data[\"type\"].unique())\n",
    "print(\"isFraud: \\n\", data[\"isFraud\"].unique())"
   ]
  },
  {
   "cell_type": "code",
   "execution_count": null,
   "id": "635edd16-2e47-4fc5-88b6-1f29f4fbd76f",
   "metadata": {},
   "outputs": [],
   "source": [
    "backup_data = pd.read_csv(\"Dataset/Credit Card.csv\")\n",
    "\n",
    "type_dictionary = {\"CASH_OUT\" : 1,\n",
    "                  \"CASH_IN\" : 2,\n",
    "                  \"TRANSFER\" : 3,\n",
    "                  \"DEBIT\" : 4,\n",
    "                  \"PAYMENT\" : 5}\n",
    "\n",
    "isFraud_dictionary = {0 : \"No Fraud\", 1 : \"Fraud\"}\n",
    "\n",
    "data[\"type\"] = data[\"type\"].map(type_dictionary)\n",
    "data[\"isFraud\"] = data[\"isFraud\"].map(isFraud_dictionary)\n",
    "\n",
    "print(data.head())"
   ]
  },
  {
   "cell_type": "code",
   "execution_count": null,
   "id": "45c7f41c-61a8-4f5b-895c-9cce8aa85691",
   "metadata": {},
   "outputs": [],
   "source": [
    "#Splitting data\n",
    "from sklearn.model_selection import train_test_split\n",
    "\n",
    "features = np.array(data[[\"type\", \"amount\", \"oldbalanceOrg\", \"newbalanceOrig\"]])\n",
    "target = np.array(data[[\"isFraud\"]])"
   ]
  },
  {
   "cell_type": "code",
   "execution_count": null,
   "id": "5c4b8d53-0d5b-4c3f-aa43-05fd0b60c455",
   "metadata": {},
   "outputs": [],
   "source": [
    "#Training the Machine Learning model\n",
    "from sklearn.tree import DecisionTreeClassifier\n",
    "\n",
    "x_train, x_test, y_train, y_test = train_test_split(features, target, test_size = 0.10, random_state = 42)\n",
    "model = DecisionTreeClassifier()\n",
    "model.fit(x_train, y_train)#Training\n",
    "print(model.score(x_test, y_test))"
   ]
  },
  {
   "cell_type": "code",
   "execution_count": null,
   "id": "295b02fd-49c3-46c4-945c-7f595bc4257c",
   "metadata": {},
   "outputs": [],
   "source": [
    "data[\"amount\"].max()"
   ]
  },
  {
   "cell_type": "code",
   "execution_count": null,
   "id": "52bdfbf2-b947-4f84-badc-76de7eb25a1e",
   "metadata": {},
   "outputs": [],
   "source": [
    "#Prediction \n",
    "import random\n",
    "random_type = random.randint(1, 5)\n",
    "random_amount = random.randrange(1000, 99999999)\n",
    "old_balace = random_amount = random.randrange(1000, 99999999)\n",
    "new_balance = old_balance - random_amount\n",
    "\n",
    "predict_features = np.array([[random_type, random_amount, old_balance, new_balance]])\n",
    "print(\"Features: \\n\", predict_features)\n",
    "\n",
    "print(model.predict(predict_features))"
   ]
  }
 ],
 "metadata": {
  "kernelspec": {
   "display_name": "Python 3 (ipykernel)",
   "language": "python",
   "name": "python3"
  },
  "language_info": {
   "codemirror_mode": {
    "name": "ipython",
    "version": 3
   },
   "file_extension": ".py",
   "mimetype": "text/x-python",
   "name": "python",
   "nbconvert_exporter": "python",
   "pygments_lexer": "ipython3",
   "version": "3.12.3"
  }
 },
 "nbformat": 4,
 "nbformat_minor": 5
}
